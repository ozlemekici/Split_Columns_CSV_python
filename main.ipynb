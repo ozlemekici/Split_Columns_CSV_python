{
 "cells": [
  {
   "cell_type": "code",
   "execution_count": 6,
   "metadata": {},
   "outputs": [],
   "source": [
    "import pandas as pd"
   ]
  },
  {
   "cell_type": "code",
   "execution_count": 7,
   "metadata": {},
   "outputs": [
    {
     "name": "stdout",
     "output_type": "stream",
     "text": [
      " 16 months on less \n",
      "\n",
      "PRACLA16,alchool=10,alt_image=/p/r/pracla16_podere_pradarolo_vej_metodo_classico.jpeg,area=Parma,bottleml=750,box_size=6,cellar_practice=No added S02|Skin contact|Unfiltered|Wild ferment,filtration=No,fruit=5,kind_byo_organic=Natural Wine,main_grape=Malvasia di Candia Aromatica,manufacturer=Podere Pradarolo,mayob_btb=43340,mineral=1,myob_btc_h=43350,oak1=No,pairing=Cured meat,region=Emilia-Romagna,second_fermentation=Bottle (Metodo Classico)|16 months on lees,skin_contact=Yes,sku_short=PRACLA,sparkling_residual_sugar=Metodo Classico, 16 months on less,spontaneous_fermentation1=Yes,stripe_sub_enabled=No,sw_featured=No,vineyard_management=Organic,Vntg=2016,wine_producer=Podere Pradarolo,,,,,,,,,,,,,,,,,,,,,,,,,,,,,,,,,,,,,,,,,,,,,\n",
      "[' 16 months on less'] \n",
      "\n",
      "list index out of range \n",
      "\n",
      "\n",
      "\n"
     ]
    }
   ],
   "source": [
    "def parse_csv_file(input_file_name,output_file_name):\n",
    "    with open(input_file_name) as file:\n",
    "        lines = file.readlines()\n",
    "        keys=lines[0]\n",
    "        num_rows=len(lines)\n",
    "        lines=lines[1:num_rows]\n",
    "        sku_lst=[]\n",
    "        for line in lines:\n",
    "            line=line.replace('\"','')\n",
    "            line=line.replace('\\n','')\n",
    "            line_splt=line.split(',')\n",
    "            sku_dict={}\n",
    "            sku_dict['sku']=line_splt[0]\n",
    "            for elm in line_splt[1:-1]:\n",
    "                if(elm!=''):\n",
    "                    elm_splt=elm.split('=')\n",
    "                    try:\n",
    "                        sku_dict[elm_splt[0]]=elm_splt[1]\n",
    "                    except Exception as e:\n",
    "                        print(elm,'\\n')\n",
    "                        print(line)\n",
    "                        print(elm_splt,'\\n')\n",
    "                        print(e,'\\n\\n\\n')\n",
    "            sku_lst.append(sku_dict)\n",
    "            output=pd.DataFrame(sku_lst).fillna('')\n",
    "            output.to_csv(output_file_name)\n",
    "    return(output)\n",
    "\n",
    "# wine_df=parse_csv_file('data_mixed.csv','data_cleaned.csv')"
   ]
  }
 ],
 "metadata": {
  "interpreter": {
   "hash": "29e15060d7e00ef5f5fcf3dcb1370e1b29be4566dbf1f2e478355de37df1c4d3"
  },
  "kernelspec": {
   "display_name": "Python 3.7.7 64-bit",
   "language": "python",
   "name": "python3"
  },
  "language_info": {
   "codemirror_mode": {
    "name": "ipython",
    "version": 3
   },
   "file_extension": ".py",
   "mimetype": "text/x-python",
   "name": "python",
   "nbconvert_exporter": "python",
   "pygments_lexer": "ipython3",
   "version": "3.7.7"
  },
  "orig_nbformat": 4
 },
 "nbformat": 4,
 "nbformat_minor": 2
}
