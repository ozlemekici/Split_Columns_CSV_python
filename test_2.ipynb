{
 "cells": [
  {
   "cell_type": "markdown",
   "metadata": {},
   "source": [
    "# Importing Libraries and Data Processing"
   ]
  },
  {
   "cell_type": "code",
   "execution_count": 2,
   "metadata": {},
   "outputs": [],
   "source": [
    "import pandas as pd\n",
    "import numpy as np\n"
   ]
  },
  {
   "cell_type": "code",
   "execution_count": 4,
   "metadata": {},
   "outputs": [
    {
     "name": "stdout",
     "output_type": "stream",
     "text": [
      "Could not assign to column: PRACLA16  16 months on less\n",
      "              sku alchool                                          alt_image  \\\n",
      "0         ILFOLLO    None                                               None   \n",
      "1    SMANGRUJ05-1      10            /a/n/anghelo_rujo_edited-pixlr_copy.jpg   \n",
      "2      OLBCANGR15      10                            /c/a/cangrande_test.jpg   \n",
      "3        ZAMFIA19      10  /p/i/pierluigi_zampaglione_fiano_don_chisciott...   \n",
      "4        VINMUL18      10     /r/u/rudi_vindimian_muller_turgau_vinmul18.png   \n",
      "..            ...     ...                                                ...   \n",
      "379       MAZCH20    None        /t/e/tenuta_mazzolino_blanc_mazch19_1_1.png   \n",
      "380      PEDNOS20    None                                               None   \n",
      "381      LEDSRO18    None  /l/e/le_due_terre_sacrisassi_rosso_ledsro17_1.jpg   \n",
      "382     FSLOCHE20    None                                               None   \n",
      "383       PGMOS21    None           /p/i/piero_gatti_moscato_pgmos19_1_1.png   \n",
      "\n",
      "    animal                        area australian_like awards blended_grapes  \\\n",
      "0        1                        None            None   None           None   \n",
      "1        2                     Alghero            None   None           None   \n",
      "2     None                     Gallura            None   None       Cannonau   \n",
      "3     None                     Irpinia            None   None           None   \n",
      "4     None                 Vallagarina            None   None           None   \n",
      "..     ...                         ...             ...    ...            ...   \n",
      "379   None              Oltrepo Pavese            None   None           None   \n",
      "380   None             Valle dei Laghi            None   None           None   \n",
      "381   None  Colli Orientali del Friuli            None   None        Refosco   \n",
      "382   None            Castelli di Jesi            None   None           None   \n",
      "383   None                       Cuneo            None   None           None   \n",
      "\n",
      "    bottleml box_size  ... vegetal vineyard_management  Vntg wild_ferment  \\\n",
      "0        750       12  ...       1         Sustainable  None         None   \n",
      "1       None        1  ...       1                None  2005         None   \n",
      "2        750        6  ...    None             Organic  2015         None   \n",
      "3        750        6  ...    None             Organic  2019         None   \n",
      "4        750       12  ...    None             Organic  2018         None   \n",
      "..       ...      ...  ...     ...                 ...   ...          ...   \n",
      "379      750       12  ...    None         Sustainable  2020         None   \n",
      "380      750       12  ...    None             Organic  2020         None   \n",
      "381      750        6  ...    None             Organic  2018         None   \n",
      "382      700       12  ...    None          Biodynamic  2020         None   \n",
      "383      750        6  ...    None         Sustainable  2021         None   \n",
      "\n",
      "    wine_producer\\n mayob_btb          wine_producer style organic  myob  \n",
      "0              None     43340               Il Follo   NaN     NaN   NaN  \n",
      "1              None     43340          Sella & Mosca   NaN     NaN   NaN  \n",
      "2              None     43340          Tenute Olbios   NaN     NaN   NaN  \n",
      "3              None     43340  Pierluigi Zampaglione   NaN     NaN   NaN  \n",
      "4              None     43340         Rudi Vindimian   NaN     NaN   NaN  \n",
      "..              ...       ...                    ...   ...     ...   ...  \n",
      "379            None     43340       Tenuta Mazzolino  None    None  None  \n",
      "380            None     43340          Gino Pedrotti  None    None  None  \n",
      "381            None     43340           Le Due Terre  None    None  None  \n",
      "382            None     43340   Fattoria San Lorenzo  None    None  None  \n",
      "383            None     43340            Piero Gatti  None    None  None  \n",
      "\n",
      "[384 rows x 52 columns]\n"
     ]
    }
   ],
   "source": [
    "with open(\"data_mixed.csv\") as f:\n",
    "    # use the first line as column names in the dataframe\n",
    "    col_names = f.readline()\n",
    "    df = pd.DataFrame(columns = col_names.split(\",\"), dtype=object)\n",
    "    #print(col_names)\n",
    "    for line in f:\n",
    "        d = {}\n",
    "        # lines have more than 2 columns, but the trailing values are empty\n",
    "        # so the format is col1, large_col2,...\n",
    "        col1, *col2 = line.split(\",\")\n",
    "        d[\"sku\"] = col1\n",
    "        for item in col2:\n",
    "            try:\n",
    "                if item.strip(): #disregard the empty trailing columns\n",
    "                    k,v = item.split(\"=\")\n",
    "                    # we split on comma, so have occasional\n",
    "                    k = k.strip('\"')\n",
    "                    v = v.strip('\"')\n",
    "                    d[k] = v\n",
    "            except ValueError as e:\n",
    "                # there is a column value with missing key\n",
    "                print(\"Could not assign to column:\", d[\"sku\"], item)\n",
    "                \n",
    "        for col in df.columns:   # add potentially missing columns as None\n",
    "            if col not in d:\n",
    "                d[col] = None\n",
    "        df = df.append(d, ignore_index = True)\n",
    "\n",
    "print(df)"
   ]
  },
  {
   "cell_type": "code",
   "execution_count": null,
   "metadata": {},
   "outputs": [],
   "source": [
    "df.to_csv(\"data_cleaned.csv\") # save edited data"
   ]
  }
 ],
 "metadata": {
  "interpreter": {
   "hash": "29e15060d7e00ef5f5fcf3dcb1370e1b29be4566dbf1f2e478355de37df1c4d3"
  },
  "kernelspec": {
   "display_name": "Python 3 (ipykernel)",
   "language": "python",
   "name": "python3"
  },
  "language_info": {
   "codemirror_mode": {
    "name": "ipython",
    "version": 3
   },
   "file_extension": ".py",
   "mimetype": "text/x-python",
   "name": "python",
   "nbconvert_exporter": "python",
   "pygments_lexer": "ipython3",
   "version": "3.7.7"
  }
 },
 "nbformat": 4,
 "nbformat_minor": 4
}
